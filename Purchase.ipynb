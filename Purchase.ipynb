{
 "cells": [
  {
   "cell_type": "code",
   "execution_count": 1,
   "id": "9648c38b",
   "metadata": {},
   "outputs": [],
   "source": [
    "import json\n",
    "\n",
    "fd = open(\"record.json\",'r')\n",
    "r = fd.read()\n",
    "fd.close()\n",
    "\n",
    "records = json.loads(r)"
   ]
  },
  {
   "cell_type": "markdown",
   "id": "329e1b31",
   "metadata": {},
   "source": [
    "# Purchase"
   ]
  },
  {
   "cell_type": "code",
   "execution_count": 19,
   "id": "70d6376e",
   "metadata": {},
   "outputs": [
    {
     "name": "stdout",
     "output_type": "stream",
     "text": [
      "Enter the product_Id: 5\n",
      "Enter the quantity: 8\n",
      "**************************************************\n",
      "Product:  cashew\n",
      "Price:  149.0\n",
      "Discount :  8 %\n",
      "Category:  eatables\n",
      "Billing Amount:  1096.64\n",
      "**************************************************\n"
     ]
    }
   ],
   "source": [
    "ui_prod  = str(input(\"Enter the product_Id: \"))\n",
    "ui_quant = int(input(\"Enter the quantity: \"))\n",
    "if(records[ui_prod]['Qn']-ui_quant>=0):\n",
    "    print(50*'*')\n",
    "    print(\"Product: \", records[ui_prod]['name'])\n",
    "    print(\"Price: \", records[ui_prod]['Pr'])\n",
    "    print(\"Discount : \", records[ui_prod]['Dis'],\"%\" )\n",
    "    print(\"Category: \", records[ui_prod]['C_id'])\n",
    "    amount = records[ui_prod]['Pr'] * ui_quant\n",
    "    amount = amount * records[ui_prod]['Dis']\n",
    "    amount = amount/100\n",
    "    print(\"Billing Amount: \", records[ui_prod]['Pr'] * ui_quant -  amount )\n",
    "    print(50*'*')\n",
    "    records[ui_prod]['Qn'] = records[ui_prod]['Qn'] - ui_quant\n",
    "\n",
    "else:\n",
    "    print(\"only\",records[ui_prod]['Qn'],\"are left\")\n",
    "    "
   ]
  },
  {
   "cell_type": "markdown",
   "id": "5b2dc7e4",
   "metadata": {},
   "source": [
    "# Update Inventory after purchase"
   ]
  },
  {
   "cell_type": "code",
   "execution_count": 24,
   "id": "8acee6b2",
   "metadata": {},
   "outputs": [],
   "source": [
    "js = json.dumps(records)\n",
    "\n",
    "fd = open(\"record.json\",'w')\n",
    "fd.write(js)\n",
    "fd.close()"
   ]
  },
  {
   "cell_type": "markdown",
   "id": "f3816a2a",
   "metadata": {},
   "source": [
    "# Update Sales records"
   ]
  },
  {
   "cell_type": "code",
   "execution_count": 21,
   "id": "fe3a849c",
   "metadata": {},
   "outputs": [],
   "source": [
    "fd = open(\"sales.json\",'r')\n",
    "r = fd.read()\n",
    "fd.close()\n",
    "sales = json.loads(r)"
   ]
  },
  {
   "cell_type": "code",
   "execution_count": 22,
   "id": "e1c38ed3",
   "metadata": {},
   "outputs": [],
   "source": [
    "x = False;\n",
    "for i in sales.keys():\n",
    "    if(ui_prod == i):\n",
    "        x=True;\n",
    "        break;\n",
    "\n",
    "if( x == True):\n",
    "    sales[ui_prod][\"Bill\"]= sales[ui_prod][\"Bill\"] + records[ui_prod]['Pr'] * ui_quant -  amount\n",
    "    sales[ui_prod][\"Qn\"]= sales[ui_prod][\"Qn\"] +  ui_quant\n",
    "    \n",
    "else:\n",
    "    sales[ui_prod] = {'name':records[ui_prod]['name'], 'Pr': records[ui_prod]['Pr'], 'Qn':ui_quant,\"C_id\":records[ui_prod]['C_id'],\"Dis\":records[ui_prod]['Dis'],\"Bill\":records[ui_prod]['Pr'] * ui_quant -  amount}\n",
    "\n",
    "js = json.dumps(sales)\n",
    "\n",
    "fd = open(\"sales.json\",'w')\n",
    "fd.write(js)\n",
    "fd.close()"
   ]
  },
  {
   "cell_type": "code",
   "execution_count": null,
   "id": "637e10a1",
   "metadata": {},
   "outputs": [],
   "source": []
  }
 ],
 "metadata": {
  "kernelspec": {
   "display_name": "Python 3.8.10 64-bit",
   "language": "python",
   "name": "python3810jvsc74a57bd0916dbcbb3f70747c44a77c7bcd40155683ae19c65e1c03b4aa3499c5328201f1"
  },
  "language_info": {
   "codemirror_mode": {
    "name": "ipython",
    "version": 3
   },
   "file_extension": ".py",
   "mimetype": "text/x-python",
   "name": "python",
   "nbconvert_exporter": "python",
   "pygments_lexer": "ipython3",
   "version": "3.8.10"
  }
 },
 "nbformat": 4,
 "nbformat_minor": 5
}
