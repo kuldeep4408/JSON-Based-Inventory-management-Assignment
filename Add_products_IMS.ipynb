{
 "cells": [
  {
   "cell_type": "code",
   "execution_count": 5,
   "id": "d1abcb0d",
   "metadata": {},
   "outputs": [],
   "source": [
    "import json"
   ]
  },
  {
   "cell_type": "code",
   "execution_count": 6,
   "id": "9ee1809e",
   "metadata": {},
   "outputs": [],
   "source": [
    "fd = open(\"record.json\",'r')\n",
    "r = fd.read()\n",
    "fd.close()\n",
    "record = json.loads(r)"
   ]
  },
  {
   "cell_type": "markdown",
   "id": "dcb4b667",
   "metadata": {},
   "source": [
    "# Add New Item into Inventory\n",
    "\n"
   ]
  },
  {
   "cell_type": "code",
   "execution_count": 7,
   "id": "7f177679",
   "metadata": {},
   "outputs": [
    {
     "name": "stdout",
     "output_type": "stream",
     "text": [
      "Enter product id:31\n",
      "Enter name:mouse\n",
      "Enter price:500\n",
      "Enter quantity:85\n",
      "Enter category_id:25\n",
      "Enter discount:25\n"
     ]
    }
   ],
   "source": [
    "prod_id = str(input(\"Enter product id:\"))\n",
    "Name = str(input(\"Enter name:\"))\n",
    "Price = float(input(\"Enter price:\"))\n",
    "Quantity = int(input(\"Enter quantity:\"))\n",
    "Category = str(input(\"Enter category:\"))\n",
    "Discount= float(input(\"Enter discount:\"))\n",
    "\n",
    "x = False;\n",
    "for i in record.keys():\n",
    "    if(prod_id == i):\n",
    "        x=True;\n",
    "        break;\n",
    "\n",
    "if( x == True):\n",
    "    record[prod_id][\"Pr\"]=Price\n",
    "    record[prod_id][\"Qn\"]= record[prod_id][\"Qn\"]+Quantity\n",
    "    record[prod_id][\"Dis\"]=Discount\n",
    "else:\n",
    "    record[prod_id] = {'name': Name, 'Pr': Price, 'Qn': Quantity,\"C_id\":Category,\"Dis\":Discount}\n",
    "\n",
    "js = json.dumps(record)\n",
    "\n",
    "fd = open(\"record.json\",'w')\n",
    "fd.write(js)\n",
    "fd.close()"
   ]
  }
 ],
 "metadata": {
  "kernelspec": {
   "display_name": "Python 3.8.10 64-bit",
   "language": "python",
   "name": "python3810jvsc74a57bd0916dbcbb3f70747c44a77c7bcd40155683ae19c65e1c03b4aa3499c5328201f1"
  },
  "language_info": {
   "codemirror_mode": {
    "name": "ipython",
    "version": 3
   },
   "file_extension": ".py",
   "mimetype": "text/x-python",
   "name": "python",
   "nbconvert_exporter": "python",
   "pygments_lexer": "ipython3",
   "version": "3.8.10"
  }
 },
 "nbformat": 4,
 "nbformat_minor": 5
}
